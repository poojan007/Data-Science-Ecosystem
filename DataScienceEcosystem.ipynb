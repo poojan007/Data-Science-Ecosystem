{
 "cells": [
  {
   "cell_type": "markdown",
   "id": "8609231f",
   "metadata": {},
   "source": [
    "# Final Project Notebook"
   ]
  },
  {
   "cell_type": "markdown",
   "id": "d9f91eb7",
   "metadata": {},
   "source": [
    "## Introduction\n",
    "This notebook covers various basic concepts and tools used in Data Science."
   ]
  },
  {
   "cell_type": "markdown",
   "id": "4f0008e8",
   "metadata": {},
   "source": [
    "### Data Science Languages\n",
    "- Python\n",
    "- R\n",
    "- SQL\n",
    "- Julia\n",
    "- Scala"
   ]
  },
  {
   "cell_type": "markdown",
   "id": "f1442ba7",
   "metadata": {},
   "source": [
    "### Data Science Libraries\n",
    "- Pandas\n",
    "- NumPy\n",
    "- Scikit-learn\n",
    "- TensorFlow\n",
    "- PyTorch"
   ]
  },
  {
   "cell_type": "markdown",
   "id": "a01da05a",
   "metadata": {},
   "source": [
    "### Data Science Tools\n",
    "\n",
    "| Tool       | Type          | Use Case                       |\n",
    "|------------|---------------|--------------------------------|\n",
    "| Jupyter    | IDE           | Interactive Coding            |\n",
    "| Git        | Version Control | Source Code Management       |\n",
    "| Tableau    | Visualization | Data Visualization            |\n",
    "| Apache Spark | Big Data    | Large-scale Data Processing   |\n",
    "| Docker     | Virtualization | Environment Replication       |"
   ]
  },
  {
   "cell_type": "markdown",
   "id": "80e3a324",
   "metadata": {},
   "source": [
    "### Arithmetic Expression Examples\n",
    "In this section, we will look at basic arithmetic operations like addition and multiplication."
   ]
  },
  {
   "cell_type": "code",
   "execution_count": null,
   "id": "2202ddff",
   "metadata": {},
   "outputs": [],
   "source": [
    "5 * 3 + 2"
   ]
  },
  {
   "cell_type": "code",
   "execution_count": null,
   "id": "1ded4803",
   "metadata": {},
   "outputs": [],
   "source": [
    "minutes = 120\n",
    "hours = minutes / 60\n",
    "hours"
   ]
  },
  {
   "cell_type": "markdown",
   "id": "8ca4de5d",
   "metadata": {},
   "source": [
    "### Objectives\n",
    "- Understand basic data science concepts.\n",
    "- Familiarize with data science tools and languages.\n",
    "- Learn basic Python operations."
   ]
  },
  {
   "cell_type": "markdown",
   "id": "6c53f1b5",
   "metadata": {},
   "source": [
    "#### Author\n",
    "Written by Poojan Sharma"
   ]
  }
 ],
 "metadata": {
  "language_info": {
   "name": "python"
  }
 },
 "nbformat": 4,
 "nbformat_minor": 5
}
